{
 "cells": [
  {
   "cell_type": "markdown",
   "metadata": {},
   "source": [
    "У меня пока что очень мало репрезентативного кода, но я горжусь функцией ниже.\n",
    "\n",
    "Это функция для подготовки датасета из первого проекта специализации,\n",
    "и я ускорил её на датасете из 150 пользователей с ~31 минуты до ~2 секунд.\n",
    "\n",
    "Меня очень порадовал этот результат, и поэтому я выкладываю обе версии сюда."
   ]
  },
  {
   "cell_type": "code",
   "execution_count": 1,
   "metadata": {},
   "outputs": [],
   "source": [
    "from __future__ import division, print_function\n",
    "# отключим всякие предупреждения Anaconda\n",
    "import warnings\n",
    "warnings.filterwarnings('ignore')\n",
    "from glob import glob\n",
    "import os\n",
    "import numpy as np\n",
    "import pandas as pd\n",
    "from sklearn.externals import joblib\n",
    "\n",
    "from time import time"
   ]
  },
  {
   "cell_type": "code",
   "execution_count": 2,
   "metadata": {},
   "outputs": [],
   "source": [
    "PATH_TO_DATA = '.' "
   ]
  },
  {
   "cell_type": "code",
   "execution_count": 3,
   "metadata": {},
   "outputs": [],
   "source": [
    "#~31 min version\n",
    "#under construction\n",
    "#need a file from home"
   ]
  },
  {
   "cell_type": "code",
   "execution_count": 4,
   "metadata": {},
   "outputs": [],
   "source": [
    "#~2 sec version\n",
    "def prepare_train_set_new(path_to_csv_files, session_length=10):   \n",
    "    tme = time()\n",
    "    uid = 1\n",
    "    u_sites = dict()\n",
    "    compact_frame = []\n",
    "    \n",
    "    framepaths = glob(path_to_csv_files + os.sep + '*.csv')\n",
    "    for framepath in framepaths:\n",
    "        frame = pd.read_csv(framepath)\n",
    "        frame = list(frame['site'].values)\n",
    "        for i in range(0, len(frame), session_length):\n",
    "            row = frame[i : i + session_length]\n",
    "            for key in row:\n",
    "                u_sites[key] = u_sites.get(key, 0) + 1\n",
    "            k = session_length - len(row)\n",
    "            if k > 0:\n",
    "                zeros = [0] * k\n",
    "                row.extend(zeros)\n",
    "            row.append(uid)\n",
    "            compact_frame.append(row)\n",
    "        uid += 1\n",
    "    \n",
    "    u_sites = {kv[0]: (i, kv[1]) for i, kv in enumerate(sorted(u_sites.items(), \n",
    "                                                      key=lambda item: item[1], \n",
    "                                                      reverse=True), start=1)}\n",
    "\n",
    "    columns = ['site' + str(i) for i in range(1, session_length + 1)]\n",
    "    columns.append('user_id')\n",
    "    \n",
    "    compact_frame = pd.DataFrame(compact_frame, columns=columns)\n",
    "    \n",
    "    for item in columns[:-1]:\n",
    "        compact_frame[item] = compact_frame[item].apply(lambda x: u_sites.get(x, (0, 0))[0])\n",
    "    print('\\n', time() - tme, sep='')     \n",
    "    return compact_frame, u_sites\n"
   ]
  },
  {
   "cell_type": "code",
   "execution_count": 5,
   "metadata": {},
   "outputs": [
    {
     "name": "stdout",
     "output_type": "stream",
     "text": [
      "\n",
      "0.20548367500305176\n"
     ]
    }
   ],
   "source": [
    "#%prun       tme = time()      print('\\n', time() - tme, sep='')     \n",
    "dff, uniques = prepare_train_set_new(os.path.join(PATH_TO_DATA, '10users'), 10)"
   ]
  },
  {
   "cell_type": "code",
   "execution_count": 6,
   "metadata": {},
   "outputs": [
    {
     "name": "stdout",
     "output_type": "stream",
     "text": [
      "\n",
      "0.009976387023925781\n"
     ]
    }
   ],
   "source": [
    "dff, uniques = prepare_train_set_new(os.path.join(PATH_TO_DATA, '3users'), 10)"
   ]
  },
  {
   "cell_type": "code",
   "execution_count": 7,
   "metadata": {},
   "outputs": [
    {
     "name": "stdout",
     "output_type": "stream",
     "text": [
      "\n",
      "2.3178670406341553\n"
     ]
    }
   ],
   "source": [
    "#%%time\n",
    "train_data_150users, site_freq_150users = prepare_train_set_new(os.path.join(PATH_TO_DATA, '150users'), \n",
    "                                                     session_length=10)"
   ]
  },
  {
   "cell_type": "code",
   "execution_count": null,
   "metadata": {},
   "outputs": [],
   "source": []
  },
  {
   "cell_type": "code",
   "execution_count": null,
   "metadata": {},
   "outputs": [],
   "source": []
  },
  {
   "cell_type": "code",
   "execution_count": 20,
   "metadata": {
    "collapsed": true
   },
   "outputs": [
    {
     "ename": "AttributeError",
     "evalue": "'str' object has no attribute 'append'",
     "output_type": "error",
     "traceback": [
      "\u001b[1;31m---------------------------------------------------------------------------\u001b[0m",
      "\u001b[1;31mAttributeError\u001b[0m                            Traceback (most recent call last)",
      "\u001b[1;32m<ipython-input-20-4ce61cf42554>\u001b[0m in \u001b[0;36m<module>\u001b[1;34m\u001b[0m\n\u001b[0;32m      1\u001b[0m \u001b[1;31m#%prun       tme = time()      print('\\n', time() - tme, sep='')\u001b[0m\u001b[1;33m\u001b[0m\u001b[1;33m\u001b[0m\u001b[1;33m\u001b[0m\u001b[0m\n\u001b[1;32m----> 2\u001b[1;33m \u001b[0mdff\u001b[0m\u001b[1;33m,\u001b[0m \u001b[0muniques\u001b[0m \u001b[1;33m=\u001b[0m \u001b[0mprepare_train_set\u001b[0m\u001b[1;33m(\u001b[0m\u001b[0mos\u001b[0m\u001b[1;33m.\u001b[0m\u001b[0mpath\u001b[0m\u001b[1;33m.\u001b[0m\u001b[0mjoin\u001b[0m\u001b[1;33m(\u001b[0m\u001b[0mPATH_TO_DATA\u001b[0m\u001b[1;33m,\u001b[0m \u001b[1;34m'10users'\u001b[0m\u001b[1;33m)\u001b[0m\u001b[1;33m,\u001b[0m \u001b[1;36m10\u001b[0m\u001b[1;33m)\u001b[0m\u001b[1;33m\u001b[0m\u001b[1;33m\u001b[0m\u001b[0m\n\u001b[0m",
      "\u001b[1;32m<ipython-input-19-097fe35684ba>\u001b[0m in \u001b[0;36mprepare_train_set\u001b[1;34m(path_to_csv_files, session_length)\u001b[0m\n\u001b[0;32m     10\u001b[0m         \u001b[1;32mfor\u001b[0m \u001b[0mitem\u001b[0m \u001b[1;32min\u001b[0m \u001b[0mframe\u001b[0m\u001b[1;33m:\u001b[0m\u001b[1;33m\u001b[0m\u001b[1;33m\u001b[0m\u001b[0m\n\u001b[0;32m     11\u001b[0m             \u001b[0mu_sites\u001b[0m\u001b[1;33m[\u001b[0m\u001b[0mitem\u001b[0m\u001b[1;33m[\u001b[0m\u001b[1;36m1\u001b[0m\u001b[1;33m]\u001b[0m\u001b[1;33m]\u001b[0m \u001b[1;33m=\u001b[0m \u001b[0mu_sites\u001b[0m\u001b[1;33m.\u001b[0m\u001b[0mget\u001b[0m\u001b[1;33m(\u001b[0m\u001b[0mitem\u001b[0m\u001b[1;33m[\u001b[0m\u001b[1;36m1\u001b[0m\u001b[1;33m]\u001b[0m\u001b[1;33m,\u001b[0m \u001b[1;36m0\u001b[0m\u001b[1;33m)\u001b[0m \u001b[1;33m+\u001b[0m \u001b[1;36m1\u001b[0m\u001b[1;33m\u001b[0m\u001b[1;33m\u001b[0m\u001b[0m\n\u001b[1;32m---> 12\u001b[1;33m             \u001b[0mitem\u001b[0m\u001b[1;33m.\u001b[0m\u001b[0mappend\u001b[0m\u001b[1;33m(\u001b[0m\u001b[0muid\u001b[0m\u001b[1;33m)\u001b[0m\u001b[1;33m\u001b[0m\u001b[1;33m\u001b[0m\u001b[0m\n\u001b[0m\u001b[0;32m     13\u001b[0m             \u001b[0mdf\u001b[0m\u001b[1;33m.\u001b[0m\u001b[0mappend\u001b[0m\u001b[1;33m(\u001b[0m\u001b[0mitem\u001b[0m\u001b[1;33m)\u001b[0m\u001b[1;33m\u001b[0m\u001b[1;33m\u001b[0m\u001b[0m\n\u001b[0;32m     14\u001b[0m         \u001b[0muid\u001b[0m \u001b[1;33m+=\u001b[0m \u001b[1;36m1\u001b[0m\u001b[1;33m\u001b[0m\u001b[1;33m\u001b[0m\u001b[0m\n",
      "\u001b[1;31mAttributeError\u001b[0m: 'str' object has no attribute 'append'"
     ]
    }
   ],
   "source": [
    "#%prun \n",
    "dff, uniques = prepare_train_set(os.path.join(PATH_TO_DATA, '10users'), 10)"
   ]
  },
  {
   "cell_type": "code",
   "execution_count": 11,
   "metadata": {},
   "outputs": [
    {
     "name": "stdout",
     "output_type": "stream",
     "text": [
      "\n",
      "0.01196908950805664\n"
     ]
    }
   ],
   "source": [
    "dff, uniques = prepare_train_set(os.path.join(PATH_TO_DATA, '3users'), 10)"
   ]
  },
  {
   "cell_type": "code",
   "execution_count": 12,
   "metadata": {},
   "outputs": [
    {
     "name": "stdout",
     "output_type": "stream",
     "text": [
      "\n",
      "2.2659730911254883\n"
     ]
    }
   ],
   "source": [
    "#%%time\n",
    "train_data_150users, site_freq_150users = prepare_train_set(os.path.join(PATH_TO_DATA, '150users'), \n",
    "                                                     session_length=10)"
   ]
  },
  {
   "cell_type": "code",
   "execution_count": null,
   "metadata": {},
   "outputs": [],
   "source": []
  },
  {
   "cell_type": "code",
   "execution_count": null,
   "metadata": {},
   "outputs": [],
   "source": []
  },
  {
   "cell_type": "code",
   "execution_count": null,
   "metadata": {},
   "outputs": [],
   "source": []
  },
  {
   "cell_type": "code",
   "execution_count": null,
   "metadata": {},
   "outputs": [],
   "source": []
  },
  {
   "cell_type": "code",
   "execution_count": null,
   "metadata": {},
   "outputs": [],
   "source": []
  },
  {
   "cell_type": "code",
   "execution_count": null,
   "metadata": {},
   "outputs": [],
   "source": []
  },
  {
   "cell_type": "code",
   "execution_count": null,
   "metadata": {},
   "outputs": [],
   "source": []
  }
 ],
 "metadata": {
  "anaconda-cloud": {},
  "kernelspec": {
   "display_name": "Python 3",
   "language": "python",
   "name": "python3"
  },
  "language_info": {
   "codemirror_mode": {
    "name": "ipython",
    "version": 3
   },
   "file_extension": ".py",
   "mimetype": "text/x-python",
   "name": "python",
   "nbconvert_exporter": "python",
   "pygments_lexer": "ipython3",
   "version": "3.7.6"
  }
 },
 "nbformat": 4,
 "nbformat_minor": 1
}
