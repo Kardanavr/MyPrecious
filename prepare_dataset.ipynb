{
 "cells": [
  {
   "cell_type": "markdown",
   "metadata": {},
   "source": [
    "У меня пока что очень мало репрезентативного кода, но я горжусь функцией ниже.\n",
    "\n",
    "Это функция для подготовки датасета из первого проекта специализации,\n",
    "и я ускорил её на датасете из 150 пользователей с ~33 минут до ~2-3 секунд, в зависимости от машины.\n",
    "\n",
    "К сожалению, самый медленный сохранившийся код выполняетсяс около 20-30 секунд, поэтому для сравнения выложу его.\n",
    "\n",
    "Меня очень порадовала эта задача и то, что я сделал, поэтому я выкладываю именно этот код."
   ]
  },
  {
   "cell_type": "code",
   "execution_count": 26,
   "metadata": {},
   "outputs": [],
   "source": [
    "from __future__ import division, print_function\n",
    "# отключим всякие предупреждения Anaconda\n",
    "import warnings\n",
    "warnings.filterwarnings('ignore')\n",
    "from glob import glob\n",
    "import os\n",
    "import numpy as np\n",
    "import pandas as pd\n",
    "from sklearn.externals import joblib\n",
    "from collections import defaultdict\n",
    "from csv import reader as cr\n",
    "\n",
    "from time import time\n",
    "\n",
    "PATH_TO_DATA = '.' "
   ]
  },
  {
   "cell_type": "code",
   "execution_count": 24,
   "metadata": {},
   "outputs": [],
   "source": [
    "#~20 sec version\n",
    "def prepare_train_set(path_to_csv_files, session_length=10):   \n",
    "    tme = time()\n",
    "    u_sites = dict()\n",
    "    uid = 1\n",
    "    df = []\n",
    "    columns=['timestamp', 'site', 'user_id']\n",
    "    framepaths = glob(path_to_csv_files + '\\\\*.csv')\n",
    "    for framepath in framepaths:\n",
    "        with open(framepath) as file:\n",
    "            frame = list(cr(file))\n",
    "        for item in frame:\n",
    "            u_sites[item[1]] = u_sites.get(item[1], 0) + 1\n",
    "            item.append(uid)\n",
    "            df.append(item)\n",
    "        uid += 1\n",
    "    df = pd.DataFrame(df, columns=columns)\n",
    "    u_sites = {kv[0]: (i, kv[1]) for i, kv in enumerate(sorted(u_sites.items(), \n",
    "                                                      key=lambda item: item[1], \n",
    "                                                      reverse=True), start=1)}\n",
    "\n",
    "    columns = ['site' + str(i) for i in range(1, session_length + 1)]\n",
    "    columns.append('user_id')\n",
    "    \n",
    "    compact_frame = []\n",
    "    users = df.user_id.unique()\n",
    "    df['site_id'] = df.site.apply(lambda x: u_sites[x][0])\n",
    "    for uid in users:\n",
    "        cur_df = df[df.user_id==uid]\n",
    "        tens = session_length\n",
    "        while tens <= cur_df.shape[0] + session_length:\n",
    "            row = list(cur_df.site_id[tens-session_length:tens])\n",
    "            while len(row) < session_length:\n",
    "                row.append(0)\n",
    "            row.append(uid)\n",
    "            compact_frame.append(row)\n",
    "            tens += session_length\n",
    "    print('\\n', time() - tme, sep='')        \n",
    "    return pd.DataFrame(compact_frame, columns=columns), u_sites"
   ]
  },
  {
   "cell_type": "code",
   "execution_count": 14,
   "metadata": {},
   "outputs": [],
   "source": [
    "#~2 sec version\n",
    "def prepare_train_set_new(path_to_csv_files, session_length=10):   \n",
    "    tme = time()\n",
    "    uid = 1\n",
    "    u_sites = dict()\n",
    "    compact_frame = []\n",
    "    \n",
    "    framepaths = glob(path_to_csv_files + os.sep + '*.csv')\n",
    "    for framepath in framepaths:\n",
    "        frame = pd.read_csv(framepath)\n",
    "        frame = list(frame['site'].values)\n",
    "        for i in range(0, len(frame), session_length):\n",
    "            row = frame[i : i + session_length]\n",
    "            for key in row:\n",
    "                u_sites[key] = u_sites.get(key, 0) + 1\n",
    "            k = session_length - len(row)\n",
    "            if k > 0:\n",
    "                zeros = [0] * k\n",
    "                row.extend(zeros)\n",
    "            row.append(uid)\n",
    "            compact_frame.append(row)\n",
    "        uid += 1\n",
    "    \n",
    "    u_sites = {kv[0]: (i, kv[1]) for i, kv in enumerate(sorted(u_sites.items(), \n",
    "                                                      key=lambda item: item[1], \n",
    "                                                      reverse=True), start=1)}\n",
    "\n",
    "    columns = ['site' + str(i) for i in range(1, session_length + 1)]\n",
    "    columns.append('user_id')\n",
    "    \n",
    "    compact_frame = pd.DataFrame(compact_frame, columns=columns)\n",
    "    \n",
    "    for item in columns[:-1]:\n",
    "        compact_frame[item] = compact_frame[item].apply(lambda x: u_sites.get(x, (0, 0))[0])\n",
    "    print('\\n', time() - tme, sep='')     \n",
    "    return compact_frame, u_sites\n"
   ]
  },
  {
   "cell_type": "code",
   "execution_count": 8,
   "metadata": {},
   "outputs": [
    {
     "name": "stdout",
     "output_type": "stream",
     "text": [
      "\n",
      "0.2898440361022949\n"
     ]
    }
   ],
   "source": [
    "#%prun       tme = time()      print('\\n', time() - tme, sep='')     \n",
    "dff, uniques = prepare_train_set_new(os.path.join(PATH_TO_DATA, '10users'), 10)"
   ]
  },
  {
   "cell_type": "code",
   "execution_count": 9,
   "metadata": {},
   "outputs": [
    {
     "name": "stdout",
     "output_type": "stream",
     "text": [
      "\n",
      "0.014989376068115234\n"
     ]
    }
   ],
   "source": [
    "dff, uniques = prepare_train_set_new(os.path.join(PATH_TO_DATA, '3users'), 10)"
   ]
  },
  {
   "cell_type": "code",
   "execution_count": 11,
   "metadata": {},
   "outputs": [
    {
     "name": "stdout",
     "output_type": "stream",
     "text": [
      "\n",
      "3.018272638320923\n"
     ]
    }
   ],
   "source": [
    "#%%time\n",
    "train_data_150users, site_freq_150users = prepare_train_set_new(os.path.join(PATH_TO_DATA, '150users'), \n",
    "                                                     session_length=10)"
   ]
  },
  {
   "cell_type": "code",
   "execution_count": null,
   "metadata": {},
   "outputs": [],
   "source": []
  },
  {
   "cell_type": "code",
   "execution_count": 21,
   "metadata": {
    "scrolled": true
   },
   "outputs": [
    {
     "name": "stdout",
     "output_type": "stream",
     "text": [
      "\n",
      "2.420649528503418\n"
     ]
    }
   ],
   "source": [
    "#%prun \n",
    "dff, uniques = prepare_train_set(os.path.join(PATH_TO_DATA, '10users'), 10)"
   ]
  },
  {
   "cell_type": "code",
   "execution_count": 22,
   "metadata": {},
   "outputs": [
    {
     "name": "stdout",
     "output_type": "stream",
     "text": [
      "\n",
      "0.0069963932037353516\n"
     ]
    }
   ],
   "source": [
    "dff, uniques = prepare_train_set(os.path.join(PATH_TO_DATA, '3users'), 10)"
   ]
  },
  {
   "cell_type": "code",
   "execution_count": 23,
   "metadata": {},
   "outputs": [
    {
     "name": "stdout",
     "output_type": "stream",
     "text": [
      "\n",
      "23.329655408859253\n"
     ]
    }
   ],
   "source": [
    "#%%time\n",
    "train_data_150users, site_freq_150users = prepare_train_set(os.path.join(PATH_TO_DATA, '150users'), \n",
    "                                                     session_length=10)"
   ]
  },
  {
   "cell_type": "code",
   "execution_count": null,
   "metadata": {},
   "outputs": [],
   "source": []
  }
 ],
 "metadata": {
  "anaconda-cloud": {},
  "kernelspec": {
   "display_name": "Python 3",
   "language": "python",
   "name": "python3"
  },
  "language_info": {
   "codemirror_mode": {
    "name": "ipython",
    "version": 3
   },
   "file_extension": ".py",
   "mimetype": "text/x-python",
   "name": "python",
   "nbconvert_exporter": "python",
   "pygments_lexer": "ipython3",
   "version": "3.7.6"
  }
 },
 "nbformat": 4,
 "nbformat_minor": 1
}
